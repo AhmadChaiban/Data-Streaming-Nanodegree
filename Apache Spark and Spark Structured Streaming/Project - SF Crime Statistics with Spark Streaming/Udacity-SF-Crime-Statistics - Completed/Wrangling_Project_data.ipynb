{
 "cells": [
  {
   "cell_type": "code",
   "execution_count": 2,
   "metadata": {
    "editable": true
   },
   "outputs": [],
   "source": [
    "import json\n",
    "from pyspark.sql import SparkSession\n",
    "from pyspark.sql.types import *\n",
    "import pyspark.sql.functions as psf\n",
    "from pyspark import SparkContext\n",
    "from pyspark.sql import SQLContext "
   ]
  },
  {
   "cell_type": "code",
   "execution_count": 3,
   "metadata": {
    "editable": true
   },
   "outputs": [],
   "source": [
    "sc = SparkContext(appName=\"Wrangling-Project-Data\")"
   ]
  },
  {
   "cell_type": "code",
   "execution_count": 4,
   "metadata": {
    "editable": true
   },
   "outputs": [],
   "source": [
    "sqlContext = SQLContext(sc)"
   ]
  },
  {
   "cell_type": "code",
   "execution_count": 5,
   "metadata": {
    "editable": true
   },
   "outputs": [],
   "source": [
    "path = 'police-department-calls-for-service.json'\n",
    "df = sqlContext.read.json(path,multiLine=True)"
   ]
  },
  {
   "cell_type": "code",
   "execution_count": 6,
   "metadata": {
    "editable": true
   },
   "outputs": [
    {
     "name": "stdout",
     "output_type": "stream",
     "text": [
      "root\n",
      " |-- address: string (nullable = true)\n",
      " |-- address_type: string (nullable = true)\n",
      " |-- agency_id: string (nullable = true)\n",
      " |-- call_date: string (nullable = true)\n",
      " |-- call_date_time: string (nullable = true)\n",
      " |-- call_time: string (nullable = true)\n",
      " |-- city: string (nullable = true)\n",
      " |-- common_location: string (nullable = true)\n",
      " |-- crime_id: string (nullable = true)\n",
      " |-- disposition: string (nullable = true)\n",
      " |-- offense_date: string (nullable = true)\n",
      " |-- original_crime_type_name: string (nullable = true)\n",
      " |-- report_date: string (nullable = true)\n",
      " |-- state: string (nullable = true)\n",
      "\n"
     ]
    }
   ],
   "source": [
    "df.printSchema()"
   ]
  },
  {
   "cell_type": "code",
   "execution_count": 7,
   "metadata": {
    "editable": true
   },
   "outputs": [
    {
     "name": "stdout",
     "output_type": "stream",
     "text": [
      "+--------------------+------------------------+------------+\n",
      "|      call_date_time|original_crime_type_name| disposition|\n",
      "+--------------------+------------------------+------------+\n",
      "|2018-12-31T23:57:...|            Traffic Stop|         ADM|\n",
      "|2018-12-31T23:54:...|     Traf Violation Cite|         CIT|\n",
      "|2018-12-31T23:49:...|            Passing Call|         HAN|\n",
      "|2018-12-31T23:47:...|           Audible Alarm|         PAS|\n",
      "|2018-12-31T23:46:...|            Traffic Stop|         CIT|\n",
      "|2018-12-31T23:38:...|            Passing Call|          ND|\n",
      "|2018-12-31T23:38:...|            Traffic Stop|         CIT|\n",
      "|2018-12-31T23:36:...|            Traffic Stop|         HAN|\n",
      "|2018-12-31T23:34:...|            Passing Call|Not recorded|\n",
      "|2018-12-31T23:33:...|         Fight No Weapon|         GOA|\n",
      "|2018-12-31T23:33:...|            Traffic Stop|         HAN|\n",
      "|2018-12-31T23:33:...|            Passing Call|         HAN|\n",
      "|2018-12-31T23:33:...|            Passing Call|         HAN|\n",
      "|2018-12-31T23:30:...|            Traffic Stop|         CIT|\n",
      "|2018-12-31T23:30:...|                     Att|         REP|\n",
      "|2018-12-31T23:29:...|      Auto Boost / Strip|         REP|\n",
      "|2018-12-31T23:29:...|            Passing Call|         HAN|\n",
      "|2018-12-31T23:28:...|            Traffic Stop|         ADV|\n",
      "|2018-12-31T23:25:...|            Passing Call|         HAN|\n",
      "|2018-12-31T23:24:...|      Suspicious Vehicle|         ADV|\n",
      "+--------------------+------------------------+------------+\n",
      "only showing top 20 rows\n",
      "\n"
     ]
    }
   ],
   "source": [
    "## select original_crime_type_name and disposition\n",
    "distinct_table = df.select(\"call_date_time\",\"original_crime_type_name\",\"disposition\")\n",
    "distinct_table.show()"
   ]
  },
  {
   "cell_type": "code",
   "execution_count": 23,
   "metadata": {
    "editable": true
   },
   "outputs": [
    {
     "name": "stdout",
     "output_type": "stream",
     "text": [
      "+------------------------+-----+\n",
      "|original_crime_type_name|count|\n",
      "+------------------------+-----+\n",
      "|                 Footage|    7|\n",
      "|                   Sword|    6|\n",
      "|                 415/909|    1|\n",
      "|            Physical/601|    1|\n",
      "|                   915/x|    1|\n",
      "|              Ne Tx 0123|    1|\n",
      "|                 488/594|    2|\n",
      "|                   Drink|    1|\n",
      "|                 Dealing|    5|\n",
      "|                 Erratic|    3|\n",
      "|          594 W/ Bb Guns|    1|\n",
      "|            Passing Call|35180|\n",
      "|                     853|   30|\n",
      "|          Person W/knife|  616|\n",
      "|                     800|  218|\n",
      "|                      Gz|   57|\n",
      "|               Loud Bass|    3|\n",
      "|                   2200e|    1|\n",
      "|            Dropped Call|   14|\n",
      "|              Music/ 909|    1|\n",
      "+------------------------+-----+\n",
      "only showing top 20 rows\n",
      "\n"
     ]
    }
   ],
   "source": [
    "## Select original crime type name and group by it\n",
    "agg_df = distinct_table.select(\"*\").withWatermark(\"call_date_time\",\"3600 seconds\").groupby(\"call_date_time\",\"original_crime_type_name\").count()\n",
    "agg_df.show()"
   ]
  },
  {
   "cell_type": "code",
   "execution_count": 24,
   "metadata": {
    "editable": true
   },
   "outputs": [],
   "source": [
    "radio_code_json_filepath = \"radio_code.json\"\n",
    "radio_code_df = sqlContext.read.json(radio_code_json_filepath,multiLine=True)\n",
    "\n",
    "# clean up your data so that the column names match on radio_code_df and agg_df\n",
    "# we will want to join on the disposition code\n",
    "\n",
    "# TODO rename disposition_code column to disposition\n",
    "radio_code_df = radio_code_df.withColumnRenamed(\"disposition_code\", \"disposition\")"
   ]
  },
  {
   "cell_type": "code",
   "execution_count": 25,
   "metadata": {
    "editable": true
   },
   "outputs": [
    {
     "ename": "AttributeError",
     "evalue": "'DataFrame' object has no attribute 'disposition'",
     "output_type": "error",
     "traceback": [
      "\u001b[0;31m---------------------------------------------------------------------------\u001b[0m",
      "\u001b[0;31mAttributeError\u001b[0m                            Traceback (most recent call last)",
      "\u001b[0;32m<ipython-input-25-1ebfa5c2c856>\u001b[0m in \u001b[0;36m<module>\u001b[0;34m\u001b[0m\n\u001b[1;32m      1\u001b[0m \u001b[0;31m## Count the number of original crime type\u001b[0m\u001b[0;34m\u001b[0m\u001b[0;34m\u001b[0m\u001b[0;34m\u001b[0m\u001b[0m\n\u001b[0;32m----> 2\u001b[0;31m \u001b[0mjoin_query\u001b[0m \u001b[0;34m=\u001b[0m \u001b[0magg_df\u001b[0m\u001b[0;34m.\u001b[0m\u001b[0mjoin\u001b[0m\u001b[0;34m(\u001b[0m\u001b[0magg_df\u001b[0m\u001b[0;34m.\u001b[0m\u001b[0mdisposition\u001b[0m \u001b[0;34m==\u001b[0m \u001b[0mradio_code_df\u001b[0m\u001b[0;34m.\u001b[0m\u001b[0mdisposition\u001b[0m\u001b[0;34m,\u001b[0m\u001b[0mhow\u001b[0m\u001b[0;34m==\u001b[0m\u001b[0;34m\"right\"\u001b[0m\u001b[0;34m)\u001b[0m\u001b[0;34m\u001b[0m\u001b[0;34m\u001b[0m\u001b[0m\n\u001b[0m\u001b[1;32m      3\u001b[0m \u001b[0mjoin_query\u001b[0m\u001b[0;34m.\u001b[0m\u001b[0mshow\u001b[0m\u001b[0;34m(\u001b[0m\u001b[0;34m)\u001b[0m\u001b[0;34m\u001b[0m\u001b[0;34m\u001b[0m\u001b[0m\n",
      "\u001b[0;32m/opt/spark-2.3.4-bin-hadoop2.7/python/pyspark/sql/dataframe.py\u001b[0m in \u001b[0;36m__getattr__\u001b[0;34m(self, name)\u001b[0m\n\u001b[1;32m   1180\u001b[0m         \u001b[0;32mif\u001b[0m \u001b[0mname\u001b[0m \u001b[0;32mnot\u001b[0m \u001b[0;32min\u001b[0m \u001b[0mself\u001b[0m\u001b[0;34m.\u001b[0m\u001b[0mcolumns\u001b[0m\u001b[0;34m:\u001b[0m\u001b[0;34m\u001b[0m\u001b[0;34m\u001b[0m\u001b[0m\n\u001b[1;32m   1181\u001b[0m             raise AttributeError(\n\u001b[0;32m-> 1182\u001b[0;31m                 \"'%s' object has no attribute '%s'\" % (self.__class__.__name__, name))\n\u001b[0m\u001b[1;32m   1183\u001b[0m         \u001b[0mjc\u001b[0m \u001b[0;34m=\u001b[0m \u001b[0mself\u001b[0m\u001b[0;34m.\u001b[0m\u001b[0m_jdf\u001b[0m\u001b[0;34m.\u001b[0m\u001b[0mapply\u001b[0m\u001b[0;34m(\u001b[0m\u001b[0mname\u001b[0m\u001b[0;34m)\u001b[0m\u001b[0;34m\u001b[0m\u001b[0;34m\u001b[0m\u001b[0m\n\u001b[1;32m   1184\u001b[0m         \u001b[0;32mreturn\u001b[0m \u001b[0mColumn\u001b[0m\u001b[0;34m(\u001b[0m\u001b[0mjc\u001b[0m\u001b[0;34m)\u001b[0m\u001b[0;34m\u001b[0m\u001b[0;34m\u001b[0m\u001b[0m\n",
      "\u001b[0;31mAttributeError\u001b[0m: 'DataFrame' object has no attribute 'disposition'"
     ]
    }
   ],
   "source": [
    "## Count the number of original crime type\n",
    "join_query = agg_df.join(agg_df.disposition == radio_code_df.disposition,how==\"right\")\n",
    "join_query.show()"
   ]
  },
  {
   "cell_type": "code",
   "execution_count": null,
   "metadata": {
    "editable": true
   },
   "outputs": [],
   "source": []
  }
 ],
 "metadata": {
  "kernelspec": {
   "display_name": "Python 3",
   "language": "python",
   "name": "python3"
  },
  "language_info": {
   "codemirror_mode": {
    "name": "ipython",
    "version": 3
   },
   "file_extension": ".py",
   "mimetype": "text/x-python",
   "name": "python",
   "nbconvert_exporter": "python",
   "pygments_lexer": "ipython3",
   "version": "3.7.3"
  }
 },
 "nbformat": 4,
 "nbformat_minor": 4
}
