{
 "cells": [
  {
   "cell_type": "markdown",
   "metadata": {
    "editable": true
   },
   "source": [
    "## KSQL Aggregates\n",
    "\n",
    "KSQL provides a number of useful aggregate functions, such as `MAX`/`MIN`, `SUM`, `COUNT` and\n",
    "others.\n",
    "\n",
    "In this exercise, we're going to see how we can create aggregated Tables from our KSQL queries.\n",
    "\n",
    "### `SUM`\n",
    "\n",
    "Let's first see how we can summarize clickevents by uri.\n",
    "\n",
    "```\n",
    "SELECT uri, SUM(number)\n",
    "FROM clickevents\n",
    "GROUP BY uri;\n",
    "```\n",
    "\n",
    "When we run this query we will receive an output list that aggregates, by number, the total count\n",
    "of number by amount, to date, for that URI.\n",
    "\n",
    "You will notice that values continue to print out to the screen on a periodic basis -- thats ok,\n",
    "that just means the table-based representation is updating. You could instead create a table and\n",
    "then periodically query that table to view updates.\n",
    "\n",
    "### `HISTOGRAM`\n",
    "\n",
    "Another useful function is `HISTOGRAM`, which allows us to count the number of occurrences for a\n",
    "given value over a period of time. In this example, lets update the previous example with a\n",
    "histogram, so not only will we have the `SUM` of all number, but also the number of times we've\n",
    "had a uri reported at all.\n",
    "\n",
    "```\n",
    "SELECT uri,\n",
    "  SUM(number) AS total_number,\n",
    "  HISTOGRAM(uri) AS num_uri\n",
    "FROM clickevents\n",
    "GROUP BY uri;\n",
    "```\n",
    "\n",
    "### `TOPK`\n",
    "\n",
    "Another common usage of stream processing is to find the top number of some value in a window.\n",
    "\n",
    "Let's define a tumbling time window of 5 minutes, and select the top 5 numbers by uri.\n",
    "\n",
    "```\n",
    "SELECT uri , TOPK(number, 5)\n",
    "FROM clickevents\n",
    "WINDOW TUMBLING (SIZE 30 SECONDS)\n",
    "GROUP BY uri;\n",
    "```\n",
    "\n",
    "You'll see the window begin to scroll by. As the top 5 numbers by uri updates for each of our\n",
    "currencies, the query will update. If you wait for 5 minutes, you will see the window reset.\n"
   ]
  },
  {
   "cell_type": "markdown",
   "metadata": {
    "editable": true
   },
   "source": []
  }
 ],
 "metadata": {
  "kernelspec": {
   "display_name": "Python 3",
   "language": "python",
   "name": "python3"
  },
  "language_info": {
   "codemirror_mode": {
    "name": "ipython",
    "version": 3
   },
   "file_extension": ".py",
   "mimetype": "text/x-python",
   "name": "python",
   "nbconvert_exporter": "python",
   "pygments_lexer": "ipython3",
   "version": "3.7.3"
  },
  "ulab_nb_type": "guided"
 },
 "nbformat": 4,
 "nbformat_minor": 4
}
