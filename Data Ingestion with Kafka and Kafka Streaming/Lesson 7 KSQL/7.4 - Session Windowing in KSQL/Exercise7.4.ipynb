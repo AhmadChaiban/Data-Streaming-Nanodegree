{
 "cells": [
  {
   "cell_type": "markdown",
   "metadata": {},
   "source": [
    "### Hopping and Tumbling Windows\n",
    "\n",
    "In this demonstration we'll see how to create Tables with windowing enabled.\n",
    "\n",
    "### Tumbling Windows\n",
    "\n",
    "Let's create a tumbling clickevents table, where the window size is 30 seconds.\n",
    "\n",
    "```\n",
    "CREATE STREAM clickevents_tumbling AS\n",
    "  SELECT * FROM clickevents\n",
    "  WINDOW TUMBLING (SIZE 30 SECONDS);\n",
    "```\n",
    "\n",
    "### Hopping Windows\n",
    "\n",
    "Now we can create a Table with a hopping window of 30 seconds with 5 second increments.\n",
    "\n",
    "```\n",
    "CREATE TABLE clickevents_hopping AS\n",
    "  SELECT uri FROM clickevents\n",
    "  WINDOW HOPPING (SIZE 30 SECONDS, ADVANCE BY 5 SECONDS)\n",
    "  WHERE uri LIKE 'http://www.b%'\n",
    "  GROUP BY uri;\n",
    "```\n",
    "\n",
    "The above window is 30 seconds long and advances by 5 second. If you query the table you will see\n",
    "the associated window times!\n",
    "\n",
    "### Session Windows\n",
    "\n",
    "Finally, lets see how session windows work. We're going to define the session as 5 minutes in\n",
    "order to group many events to the same window\n",
    "\n",
    "```\n",
    "CREATE TABLE clickevents_session AS\n",
    "  SELECT uri FROM clickevents\n",
    "  WINDOW SESSION (5 MINUTES)\n",
    "  WHERE uri LIKE 'http://www.b%'\n",
    "  GROUP BY uri;\n",
    "```\n"
   ]
  },
  {
   "cell_type": "code",
   "execution_count": null,
   "metadata": {},
   "outputs": [],
   "source": []
  }
 ],
 "metadata": {
  "kernelspec": {
   "display_name": "Python 3",
   "language": "python",
   "name": "python3"
  },
  "language_info": {
   "codemirror_mode": {
    "name": "ipython",
    "version": 3
   },
   "file_extension": ".py",
   "mimetype": "text/x-python",
   "name": "python",
   "nbconvert_exporter": "python",
   "pygments_lexer": "ipython3",
   "version": "3.7.3"
  }
 },
 "nbformat": 4,
 "nbformat_minor": 4
}
