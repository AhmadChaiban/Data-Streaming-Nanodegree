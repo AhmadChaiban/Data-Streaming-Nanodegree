{
 "cells": [
  {
   "cell_type": "markdown",
   "metadata": {
    "editable": true
   },
   "source": [
    "## The Kafka Connect API\n",
    "\n",
    "In this exercise we're going to make use of the Kafka Connect API.\n",
    "\n",
    "[See the documentation for more information on any of these actions](https://docs.confluent.io/current/connect/references/restapi.html).\n",
    "\n",
    "### Viewing Connectors\n",
    "\n",
    "First, we can view connector-plugins:\n",
    "\n",
    "`curl http://localhost:8083/connector-plugins | python -m json.tool`\n",
    "\n",
    "Quick note, the `| python -m json.tool` above simply takes the output of the `curl` command and\n",
    "prints the JSON nicely. You can omit this if you'd like!\n",
    "\n",
    "### Create a Connector\n",
    "\n",
    "Lets create a connector. We'll dive into more details on how this works later.\n",
    "\n",
    "```\n",
    "curl -X POST -H 'Content-Type: application/json' -d '{\n",
    "    \"name\": \"first-connector\",\n",
    "    \"config\": {\n",
    "        \"connector.class\": \"FileStreamSource\",\n",
    "        \"tasks.max\": 1,\n",
    "        \"file\": \"/var/log/journal/confluent-kafka-connect.service.log\",\n",
    "        \"topic\": \"kafka-connect-logs\"\n",
    "    }\n",
    "  }' \\\n",
    "  http://localhost:8083/connectors\n",
    "```\n",
    "\n",
    "### List connectors\n",
    "\n",
    "We can list all configured connectors with:\n",
    "\n",
    "`curl http://localhost:8083/connectors | python -m json.tool`\n",
    "\n",
    "You can see our connector in the list.\n",
    "\n",
    "### Detailing connectors\n",
    "\n",
    "Let's list details on our connector:\n",
    "\n",
    "`curl http://localhost:8083/connectors/first-connector | python -m json.tool`\n",
    "\n",
    "### Pausing connectors\n",
    "\n",
    "Sometimes its desirable to pause or restart connectors:\n",
    "\n",
    "To pause:\n",
    "\n",
    "`curl -X PUT http://localhost:8083/connectors/first-connector/pause`\n",
    "\n",
    "To restart:\n",
    "\n",
    "`curl -X POST http://localhost:8083/connectors/first-connector/restart`\n",
    "\n",
    "### Deleting connectors\n",
    "\n",
    "Finally, to delete your connector:\n",
    "\n",
    "`curl -X DELETE http://localhost:8083/connectors/first-connector`\n"
   ]
  },
  {
   "cell_type": "markdown",
   "metadata": {
    "editable": true
   },
   "source": []
  }
 ],
 "metadata": {
  "kernelspec": {
   "display_name": "Python 3",
   "language": "python",
   "name": "python3"
  },
  "language_info": {
   "codemirror_mode": {
    "name": "ipython",
    "version": 3
   },
   "file_extension": ".py",
   "mimetype": "text/x-python",
   "name": "python",
   "nbconvert_exporter": "python",
   "pygments_lexer": "ipython3",
   "version": "3.7.3"
  },
  "ulab_nb_type": "guided"
 },
 "nbformat": 4,
 "nbformat_minor": 4
}
